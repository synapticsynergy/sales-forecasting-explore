{
 "cells": [
  {
   "cell_type": "markdown",
   "id": "36891935-b1d8-46a9-b1d4-90c03602d64d",
   "metadata": {},
   "source": [
    "# Retail Sales Dataset Exploration"
   ]
  },
  {
   "cell_type": "markdown",
   "id": "b923476d-f98b-4715-a467-6e65ef342f70",
   "metadata": {},
   "source": [
    "> Objectives:\n",
    "> \n",
    "> - Explore a popular retail dataset\n",
    "> - Evaluate data distributions and statistics"
   ]
  },
  {
   "cell_type": "code",
   "execution_count": null,
   "id": "562f48cf-519c-4fc3-85f1-5e4433ac19b1",
   "metadata": {},
   "outputs": [],
   "source": [
    "# Pick a dataset\n",
    "# imports\n",
    "# download dataset"
   ]
  }
 ],
 "metadata": {
  "kernelspec": {
   "display_name": "Python 3 (ipykernel)",
   "language": "python",
   "name": "python3"
  },
  "language_info": {
   "codemirror_mode": {
    "name": "ipython",
    "version": 3
   },
   "file_extension": ".py",
   "mimetype": "text/x-python",
   "name": "python",
   "nbconvert_exporter": "python",
   "pygments_lexer": "ipython3",
   "version": "3.11.10"
  }
 },
 "nbformat": 4,
 "nbformat_minor": 5
}
